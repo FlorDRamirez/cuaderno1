{
 "cells": [
  {
   "cell_type": "markdown",
   "id": "77b01e1d-37bc-4dd7-8a82-2d77c54c0855",
   "metadata": {},
   "source": [
    "# Data Science Tools and Ecosystem"
   ]
  },
  {
   "cell_type": "markdown",
   "id": "ed783860-1924-4fc2-9a84-4cffbdef21c9",
   "metadata": {},
   "source": [
    "In this notebook, Data Science Tools and Ecosystem are summarized.\n",
    "\n"
   ]
  },
  {
   "cell_type": "markdown",
   "id": "ddb4c073-08f3-4a56-a6b8-8ca08bc5d509",
   "metadata": {},
   "source": [
    "**Objectives:**\n",
    "- List the most popular languages ​​for data science\n",
    "- Describe the most used libraries in data science\n",
    "- Visualize data in Python\n",
    "- Make data visualizations with Matplotlib\n",
    "- Understand the use of R\n"
   ]
  },
  {
   "cell_type": "markdown",
   "id": "e1c5632a-64b5-499e-a745-92219885f97d",
   "metadata": {},
   "source": [
    "\n",
    "Some of the popular languages that Data Scientists use are:\n",
    "\n",
    "1. Python\n",
    "2. R\n",
    "3. SQL\n",
    "4. Julia\n",
    "5. Scala\n",
    "\n"
   ]
  },
  {
   "cell_type": "markdown",
   "id": "a9d6b6dd-c4f9-42bc-ae8d-2fb1704fd168",
   "metadata": {},
   "source": [
    "Some of the commonly used libraries used by Data Scientists include:\n",
    "\n",
    "1. NumPy\n",
    "2. Pandas\n",
    "3. Matplotlib\n",
    "4. Scikit-learn\n",
    "5. TensorFlow\n"
   ]
  },
  {
   "cell_type": "markdown",
   "id": "c8cfa3cd-2c96-41fd-bf37-511641b29b0b",
   "metadata": {},
   "source": [
    "\n",
    "| Data Science Tools |\n",
    "|--------------------|\n",
    "| Jupyter Notebook   |\n",
    "| RStudio            |\n",
    "| Apache Zeppelin    |\n"
   ]
  },
  {
   "cell_type": "markdown",
   "id": "25d512b1-5519-454e-ad8a-a1d41b2d9714",
   "metadata": {},
   "source": [
    "### Below are a few examples of evaluating arithmetic expressions in Python\n"
   ]
  },
  {
   "cell_type": "markdown",
   "id": "d2972c34-968c-4121-a785-7dc0f1a67e86",
   "metadata": {},
   "source": [
    "This a simple arithmetic expression to mutiply then add integers"
   ]
  },
  {
   "cell_type": "code",
   "execution_count": 37,
   "id": "eb46368c-f45d-41ce-a544-f3218fd7c0fa",
   "metadata": {},
   "outputs": [
    {
     "data": {
      "text/plain": [
       "17"
      ]
     },
     "execution_count": 37,
     "metadata": {},
     "output_type": "execute_result"
    }
   ],
   "source": [
    "(3*4)+5"
   ]
  },
  {
   "cell_type": "markdown",
   "id": "4fd13462-67ba-435b-b772-1031656bfd9a",
   "metadata": {},
   "source": [
    "This will convert 200 minutes to hours by diving by 60."
   ]
  },
  {
   "cell_type": "code",
   "execution_count": 39,
   "id": "f331121a-228d-4044-a89d-2881d555230f",
   "metadata": {},
   "outputs": [
    {
     "data": {
      "text/plain": [
       "3.3333333333333335"
      ]
     },
     "execution_count": 39,
     "metadata": {},
     "output_type": "execute_result"
    }
   ],
   "source": [
    "minutes = 200\n",
    "hours = minutes / 60\n",
    "hours"
   ]
  },
  {
   "cell_type": "markdown",
   "id": "37f2a43b-9259-4456-a9e0-3cd77ecfdbdd",
   "metadata": {},
   "source": [
    "## Author\n",
    "\n",
    "Flor Ramirez."
   ]
  },
  {
   "cell_type": "code",
   "execution_count": null,
   "id": "855a8112-750b-4622-a5b4-95c538bbadf9",
   "metadata": {},
   "outputs": [],
   "source": []
  }
 ],
 "metadata": {
  "kernelspec": {
   "display_name": "Python 3 (ipykernel)",
   "language": "python",
   "name": "python3"
  },
  "language_info": {
   "codemirror_mode": {
    "name": "ipython",
    "version": 3
   },
   "file_extension": ".py",
   "mimetype": "text/x-python",
   "name": "python",
   "nbconvert_exporter": "python",
   "pygments_lexer": "ipython3",
   "version": "3.12.7"
  }
 },
 "nbformat": 4,
 "nbformat_minor": 5
}
